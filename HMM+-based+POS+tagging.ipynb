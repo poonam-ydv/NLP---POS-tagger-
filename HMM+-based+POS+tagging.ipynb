{
 "cells": [
  {
   "cell_type": "markdown",
   "metadata": {},
   "source": [
    "## POS tagging using modified Viterbi"
   ]
  },
  {
   "cell_type": "code",
   "execution_count": 1,
   "metadata": {},
   "outputs": [],
   "source": [
    "# *********************************************************************************************************************\n",
    "# * @Assignment: Syntactic Analysis : HMMs and Viterbi algorithm for POS tagging\n",
    "# *********************************************************************************************************************\n",
    "# *\n",
    "# * @author    : Poonam Yadav\n",
    "# * @version   : v0.1.1\n",
    "# * @StartDate : 24th-August-2020\n",
    "# \n",
    "# *********************************************************************************************************************"
   ]
  },
  {
   "cell_type": "code",
   "execution_count": 3,
   "metadata": {},
   "outputs": [],
   "source": [
    "### 1.Importing required libraries"
   ]
  },
  {
   "cell_type": "code",
   "execution_count": 4,
   "metadata": {},
   "outputs": [],
   "source": [
    "# *********************************************************************************************************************\n",
    "# * Suppress Warnings\n",
    "# *********************************************************************************************************************\n",
    "import warnings\n",
    "warnings.filterwarnings('ignore')"
   ]
  },
  {
   "cell_type": "code",
   "execution_count": 12,
   "metadata": {},
   "outputs": [],
   "source": [
    "# *********************************************************************************************************************\n",
    "# * Import Libraries \n",
    "# *********************************************************************************************************************\n",
    "import numpy             as np\n",
    "import pandas            as pd\n",
    "import matplotlib.pyplot as plt\n",
    "import seaborn           as sns\n",
    "import datetime\n",
    "import nltk, re, pprint\n",
    "import requests\n",
    "import time\n",
    "import random\n",
    "from sklearn.model_selection import train_test_split\n",
    "from nltk.tokenize import word_tokenize"
   ]
  },
  {
   "cell_type": "code",
   "execution_count": 13,
   "metadata": {},
   "outputs": [],
   "source": [
    "### Data Preparation"
   ]
  },
  {
   "cell_type": "code",
   "execution_count": 14,
   "metadata": {},
   "outputs": [],
   "source": [
    "import nltk"
   ]
  },
  {
   "cell_type": "code",
   "execution_count": 15,
   "metadata": {},
   "outputs": [
    {
     "name": "stderr",
     "output_type": "stream",
     "text": [
      "[nltk_data] Downloading package universal_tagset to\n",
      "[nltk_data]     C:\\Users\\AJAY\\AppData\\Roaming\\nltk_data...\n",
      "[nltk_data]   Package universal_tagset is already up-to-date!\n"
     ]
    },
    {
     "data": {
      "text/plain": [
       "True"
      ]
     },
     "execution_count": 15,
     "metadata": {},
     "output_type": "execute_result"
    }
   ],
   "source": [
    "nltk.download('universal_tagset')"
   ]
  },
  {
   "cell_type": "code",
   "execution_count": 16,
   "metadata": {},
   "outputs": [],
   "source": [
    "# reading the Treebank tagged sentences\n",
    "nltk_data = list(nltk.corpus.treebank.tagged_sents(tagset='universal'))"
   ]
  },
  {
   "cell_type": "code",
   "execution_count": 18,
   "metadata": {},
   "outputs": [],
   "source": [
    "# Splitting the data into train and validation set (95:5 ration respectively)\n",
    "random.seed(1234)\n",
    "train_set , validation_set = train_test_split(nltk_data , test_size = 0.05)"
   ]
  },
  {
   "cell_type": "code",
   "execution_count": 19,
   "metadata": {},
   "outputs": [
    {
     "name": "stdout",
     "output_type": "stream",
     "text": [
      "3718\n",
      "196\n"
     ]
    }
   ],
   "source": [
    "print(len(train_set))\n",
    "print(len(validation_set))"
   ]
  },
  {
   "cell_type": "code",
   "execution_count": 20,
   "metadata": {
    "scrolled": true
   },
   "outputs": [
    {
     "data": {
      "text/plain": [
       "95804"
      ]
     },
     "execution_count": 20,
     "metadata": {},
     "output_type": "execute_result"
    }
   ],
   "source": [
    "# List of tagged words in training set\n",
    "train_tagged = [tup for sent in train_set for tup in sent]\n",
    "len(train_tagged)"
   ]
  },
  {
   "cell_type": "code",
   "execution_count": 22,
   "metadata": {},
   "outputs": [
    {
     "data": {
      "text/plain": [
       "4872"
      ]
     },
     "execution_count": 22,
     "metadata": {},
     "output_type": "execute_result"
    }
   ],
   "source": [
    "# List of tagged words in validation set\n",
    "validation_tagged = [tup for sent in validation_set for tup in sent]\n",
    "len(validation_tagged)"
   ]
  },
  {
   "cell_type": "code",
   "execution_count": 23,
   "metadata": {},
   "outputs": [],
   "source": [
    "#tokens\n",
    "tokens = [pair[0] for pair in train_tagged]"
   ]
  },
  {
   "cell_type": "code",
   "execution_count": 25,
   "metadata": {},
   "outputs": [
    {
     "data": {
      "text/plain": [
       "['Stephen',\n",
       " 'Salmore',\n",
       " ',',\n",
       " 'a',\n",
       " 'political',\n",
       " 'scientist',\n",
       " 'at',\n",
       " 'New',\n",
       " 'Jersey',\n",
       " \"'s\",\n",
       " 'Eagleton',\n",
       " 'Institute']"
      ]
     },
     "execution_count": 25,
     "metadata": {},
     "output_type": "execute_result"
    }
   ],
   "source": [
    "tokens[:12]"
   ]
  },
  {
   "cell_type": "code",
   "execution_count": 29,
   "metadata": {},
   "outputs": [
    {
     "name": "stdout",
     "output_type": "stream",
     "text": [
      "{'ADP', 'ADJ', 'VERB', 'PRON', 'NUM', 'ADV', 'DET', 'X', '.', 'CONJ', 'NOUN', 'PRT'}\n"
     ]
    }
   ],
   "source": [
    "# tags\n",
    "tags = set([pair[1] for pair in train_tagged])\n",
    "print(tags)"
   ]
  },
  {
   "cell_type": "code",
   "execution_count": 26,
   "metadata": {},
   "outputs": [
    {
     "name": "stdout",
     "output_type": "stream",
     "text": [
      "12089\n"
     ]
    }
   ],
   "source": [
    "vocabulary = set(tokens)\n",
    "print(len(vocabulary))"
   ]
  },
  {
   "cell_type": "code",
   "execution_count": 30,
   "metadata": {},
   "outputs": [],
   "source": [
    "# emission probabilities\n",
    "t = len(tags)\n",
    "v = len(vocabulary)\n",
    "w_given_t = np.zeros((t, v))"
   ]
  },
  {
   "cell_type": "code",
   "execution_count": 31,
   "metadata": {},
   "outputs": [
    {
     "data": {
      "text/plain": [
       "array([[0., 0., 0., ..., 0., 0., 0.],\n",
       "       [0., 0., 0., ..., 0., 0., 0.],\n",
       "       [0., 0., 0., ..., 0., 0., 0.],\n",
       "       ...,\n",
       "       [0., 0., 0., ..., 0., 0., 0.],\n",
       "       [0., 0., 0., ..., 0., 0., 0.],\n",
       "       [0., 0., 0., ..., 0., 0., 0.]])"
      ]
     },
     "execution_count": 31,
     "metadata": {},
     "output_type": "execute_result"
    }
   ],
   "source": [
    "w_given_t"
   ]
  },
  {
   "cell_type": "code",
   "execution_count": 33,
   "metadata": {},
   "outputs": [],
   "source": [
    "# compute word given tag: Emission Probability\n",
    "def word_given_tag(word, tag, train_bag = train_tagged):\n",
    "    tag_list = [pair for pair in train_bag if pair[1]==tag]\n",
    "    count_tag = len(tag_list)\n",
    "    w_given_tag_list = [pair[0] for pair in tag_list if pair[0]==word]\n",
    "    count_w_given_tag = len(w_given_tag_list)\n",
    "    \n",
    "    return (count_w_given_tag, count_tag)"
   ]
  },
  {
   "cell_type": "code",
   "execution_count": 37,
   "metadata": {},
   "outputs": [
    {
     "name": "stdout",
     "output_type": "stream",
     "text": [
      "\n",
      " large\n",
      "(26, 6090)\n",
      "(0, 12905)\n",
      "(0, 27442) \n",
      "\n",
      "\n",
      " will\n",
      "(1, 27442)\n",
      "(266, 12905)\n",
      "\n",
      " he\n",
      "(7, 27442)\n",
      "(1, 12905)\n"
     ]
    }
   ],
   "source": [
    "# large\n",
    "print(\"\\n\", \"large\")\n",
    "print(word_given_tag('large', 'ADJ'))\n",
    "print(word_given_tag('large', 'VERB'))\n",
    "print(word_given_tag('large', 'NOUN'), \"\\n\")\n",
    "\n",
    "# will\n",
    "print(\"\\n\", \"will\")\n",
    "print(word_given_tag('will', 'NOUN'))\n",
    "print(word_given_tag('will', 'VERB'))\n",
    "\n",
    "# he\n",
    "print(\"\\n\", \"he\")\n",
    "print(word_given_tag('book', 'NOUN'))\n",
    "print(word_given_tag('book', 'VERB'))"
   ]
  },
  {
   "cell_type": "code",
   "execution_count": 38,
   "metadata": {},
   "outputs": [],
   "source": [
    "# Transition probabilities\n",
    "def t2_given_t1(t2, t1, train_bag = train_tagged):\n",
    "    tags = [pair[1] for pair in train_bag]\n",
    "    count_t1 = len([t for t in tags if t==t1])\n",
    "    count_t2_t1 = 0\n",
    "    for index in range(len(tags)-1):\n",
    "        if tags[index]==t1 and tags[index+1] == t2:\n",
    "            count_t2_t1 += 1\n",
    "    return (count_t2_t1, count_t1)"
   ]
  },
  {
   "cell_type": "code",
   "execution_count": 39,
   "metadata": {},
   "outputs": [
    {
     "name": "stdout",
     "output_type": "stream",
     "text": [
      "(4264, 6090)\n",
      "(5312, 8314)\n",
      "(1420, 12905)\n",
      "(6606, 27442)\n",
      "(4026, 27442)\n"
     ]
    }
   ],
   "source": [
    "print(t2_given_t1(t2='NOUN', t1='ADJ'))\n",
    "print(t2_given_t1('NOUN', 'DET'))\n",
    "print(t2_given_t1('NOUN', 'VERB'))\n",
    "print(t2_given_t1('.', 'NOUN'))\n",
    "print(t2_given_t1('VERB', 'NOUN'))"
   ]
  },
  {
   "cell_type": "code",
   "execution_count": 40,
   "metadata": {},
   "outputs": [
    {
     "name": "stdout",
     "output_type": "stream",
     "text": [
      "(1943, 11145)\n",
      "(982, 11145)\n",
      "(2480, 11145)\n"
     ]
    }
   ],
   "source": [
    "#Please note P(tag|start) is same as P(tag|'.')\n",
    "print(t2_given_t1('DET', '.'))\n",
    "print(t2_given_t1('VERB', '.'))\n",
    "print(t2_given_t1('NOUN', '.'))\n"
   ]
  },
  {
   "cell_type": "code",
   "execution_count": 42,
   "metadata": {},
   "outputs": [
    {
     "data": {
      "text/plain": [
       "array([[1.69166941e-02, 1.06819876e-01, 8.19236133e-03, 6.84115365e-02,\n",
       "        6.30918220e-02, 1.38312588e-02, 3.24609011e-01, 3.47909369e-02,\n",
       "        3.98978628e-02, 7.44760095e-04, 3.21204394e-01, 1.48952019e-03],\n",
       "       [7.61904791e-02, 6.63382560e-02, 1.23152705e-02, 6.56814431e-04,\n",
       "        2.08538584e-02, 4.43349732e-03, 4.92610829e-03, 2.11822651e-02,\n",
       "        6.48604259e-02, 1.70771759e-02, 7.00164199e-01, 1.10016419e-02],\n",
       "       [9.13599357e-02, 6.50910512e-02, 1.70786515e-01, 3.47152278e-02,\n",
       "        2.26268880e-02, 8.15962777e-02, 1.33824095e-01, 2.18287483e-01,\n",
       "        3.51026729e-02, 5.19178621e-03, 1.10034868e-01, 3.13831866e-02],\n",
       "       [2.22734250e-02, 7.25806430e-02, 4.88863289e-01, 7.68049154e-03,\n",
       "        6.91244239e-03, 3.37941647e-02, 9.98463947e-03, 9.44700465e-02,\n",
       "        4.03225794e-02, 5.37634408e-03, 2.06221193e-01, 1.15207378e-02],\n",
       "       [3.50877196e-02, 3.18168290e-02, 1.81385670e-02, 1.48676778e-03,\n",
       "        1.83467150e-01, 2.67618196e-03, 3.56824254e-03, 2.11418375e-01,\n",
       "        1.16859950e-01, 1.33809103e-02, 3.55040133e-01, 2.70591732e-02],\n",
       "       [1.17958911e-01, 1.31212726e-01, 3.42279643e-01, 1.49105368e-02,\n",
       "        3.21404897e-02, 7.98542053e-02, 6.85884729e-02, 2.38568597e-02,\n",
       "        1.36182904e-01, 7.28959590e-03, 3.11464537e-02, 1.45791918e-02],\n",
       "       [9.26148705e-03, 2.05196053e-01, 3.88501324e-02, 3.60837136e-03,\n",
       "        2.26124618e-02, 1.26293004e-02, 5.53283608e-03, 4.47438061e-02,\n",
       "        1.79215781e-02, 4.81116178e-04, 6.38922274e-01, 2.40558089e-04],\n",
       "       [1.46839857e-01, 1.71075556e-02, 2.05132261e-01, 5.62331714e-02,\n",
       "        2.85125920e-03, 2.53445264e-02, 5.43323308e-02, 7.50831589e-02,\n",
       "        1.62204981e-01, 1.04546174e-02, 6.08268641e-02, 1.83589414e-01],\n",
       "       [9.14311334e-02, 4.35172729e-02, 8.81112590e-02, 6.64872155e-02,\n",
       "        8.05742517e-02, 5.30282632e-02, 1.74338266e-01, 2.74562575e-02,\n",
       "        9.21489447e-02, 5.80529384e-02, 2.22521305e-01, 2.24315841e-03],\n",
       "       [5.08552939e-02, 1.17891818e-01, 1.55339807e-01, 5.91770671e-02,\n",
       "        4.25335169e-02, 5.64031452e-02, 1.20665744e-01, 8.32177512e-03,\n",
       "        3.46740633e-02, 4.62320837e-04, 3.48589927e-01, 5.08552929e-03],\n",
       "       [1.77428752e-01, 1.21711241e-02, 1.46709427e-01, 4.77370434e-03,\n",
       "        9.11012292e-03, 1.68355070e-02, 1.31185772e-02, 2.91159544e-02,\n",
       "        2.40725890e-01, 4.29633409e-02, 2.63537645e-01, 4.35099490e-02],\n",
       "       [2.06692908e-02, 8.59580040e-02, 4.00262475e-01, 1.77165363e-02,\n",
       "        5.67585304e-02, 9.84251965e-03, 1.01049870e-01, 1.37795275e-02,\n",
       "        4.33070883e-02, 2.29658792e-03, 2.46391073e-01, 1.96850393e-03]],\n",
       "      dtype=float32)"
      ]
     },
     "execution_count": 42,
     "metadata": {},
     "output_type": "execute_result"
    }
   ],
   "source": [
    "# creating t x t transition matrix of tags\n",
    "# each column is t2, each row is t1\n",
    "# thus M(i, j) represents P(tj given ti)\n",
    "\n",
    "tags_matrix = np.zeros((len(tags), len(tags)), dtype='float32')\n",
    "for i, t1 in enumerate(list(tags)):\n",
    "    for j, t2 in enumerate(list(tags)): \n",
    "        tags_matrix[i, j] = t2_given_t1(t2, t1)[0]/t2_given_t1(t2, t1)[1]\n",
    "\n",
    "tags_matrix\n"
   ]
  },
  {
   "cell_type": "code",
   "execution_count": 43,
   "metadata": {},
   "outputs": [
    {
     "data": {
      "text/html": [
       "<div>\n",
       "<style scoped>\n",
       "    .dataframe tbody tr th:only-of-type {\n",
       "        vertical-align: middle;\n",
       "    }\n",
       "\n",
       "    .dataframe tbody tr th {\n",
       "        vertical-align: top;\n",
       "    }\n",
       "\n",
       "    .dataframe thead th {\n",
       "        text-align: right;\n",
       "    }\n",
       "</style>\n",
       "<table border=\"1\" class=\"dataframe\">\n",
       "  <thead>\n",
       "    <tr style=\"text-align: right;\">\n",
       "      <th></th>\n",
       "      <th>ADP</th>\n",
       "      <th>ADJ</th>\n",
       "      <th>VERB</th>\n",
       "      <th>PRON</th>\n",
       "      <th>NUM</th>\n",
       "      <th>ADV</th>\n",
       "      <th>DET</th>\n",
       "      <th>X</th>\n",
       "      <th>.</th>\n",
       "      <th>CONJ</th>\n",
       "      <th>NOUN</th>\n",
       "      <th>PRT</th>\n",
       "    </tr>\n",
       "  </thead>\n",
       "  <tbody>\n",
       "    <tr>\n",
       "      <td>ADP</td>\n",
       "      <td>0.016917</td>\n",
       "      <td>0.106820</td>\n",
       "      <td>0.008192</td>\n",
       "      <td>0.068412</td>\n",
       "      <td>0.063092</td>\n",
       "      <td>0.013831</td>\n",
       "      <td>0.324609</td>\n",
       "      <td>0.034791</td>\n",
       "      <td>0.039898</td>\n",
       "      <td>0.000745</td>\n",
       "      <td>0.321204</td>\n",
       "      <td>0.001490</td>\n",
       "    </tr>\n",
       "    <tr>\n",
       "      <td>ADJ</td>\n",
       "      <td>0.076190</td>\n",
       "      <td>0.066338</td>\n",
       "      <td>0.012315</td>\n",
       "      <td>0.000657</td>\n",
       "      <td>0.020854</td>\n",
       "      <td>0.004433</td>\n",
       "      <td>0.004926</td>\n",
       "      <td>0.021182</td>\n",
       "      <td>0.064860</td>\n",
       "      <td>0.017077</td>\n",
       "      <td>0.700164</td>\n",
       "      <td>0.011002</td>\n",
       "    </tr>\n",
       "    <tr>\n",
       "      <td>VERB</td>\n",
       "      <td>0.091360</td>\n",
       "      <td>0.065091</td>\n",
       "      <td>0.170787</td>\n",
       "      <td>0.034715</td>\n",
       "      <td>0.022627</td>\n",
       "      <td>0.081596</td>\n",
       "      <td>0.133824</td>\n",
       "      <td>0.218287</td>\n",
       "      <td>0.035103</td>\n",
       "      <td>0.005192</td>\n",
       "      <td>0.110035</td>\n",
       "      <td>0.031383</td>\n",
       "    </tr>\n",
       "    <tr>\n",
       "      <td>PRON</td>\n",
       "      <td>0.022273</td>\n",
       "      <td>0.072581</td>\n",
       "      <td>0.488863</td>\n",
       "      <td>0.007680</td>\n",
       "      <td>0.006912</td>\n",
       "      <td>0.033794</td>\n",
       "      <td>0.009985</td>\n",
       "      <td>0.094470</td>\n",
       "      <td>0.040323</td>\n",
       "      <td>0.005376</td>\n",
       "      <td>0.206221</td>\n",
       "      <td>0.011521</td>\n",
       "    </tr>\n",
       "    <tr>\n",
       "      <td>NUM</td>\n",
       "      <td>0.035088</td>\n",
       "      <td>0.031817</td>\n",
       "      <td>0.018139</td>\n",
       "      <td>0.001487</td>\n",
       "      <td>0.183467</td>\n",
       "      <td>0.002676</td>\n",
       "      <td>0.003568</td>\n",
       "      <td>0.211418</td>\n",
       "      <td>0.116860</td>\n",
       "      <td>0.013381</td>\n",
       "      <td>0.355040</td>\n",
       "      <td>0.027059</td>\n",
       "    </tr>\n",
       "    <tr>\n",
       "      <td>ADV</td>\n",
       "      <td>0.117959</td>\n",
       "      <td>0.131213</td>\n",
       "      <td>0.342280</td>\n",
       "      <td>0.014911</td>\n",
       "      <td>0.032140</td>\n",
       "      <td>0.079854</td>\n",
       "      <td>0.068588</td>\n",
       "      <td>0.023857</td>\n",
       "      <td>0.136183</td>\n",
       "      <td>0.007290</td>\n",
       "      <td>0.031146</td>\n",
       "      <td>0.014579</td>\n",
       "    </tr>\n",
       "    <tr>\n",
       "      <td>DET</td>\n",
       "      <td>0.009261</td>\n",
       "      <td>0.205196</td>\n",
       "      <td>0.038850</td>\n",
       "      <td>0.003608</td>\n",
       "      <td>0.022612</td>\n",
       "      <td>0.012629</td>\n",
       "      <td>0.005533</td>\n",
       "      <td>0.044744</td>\n",
       "      <td>0.017922</td>\n",
       "      <td>0.000481</td>\n",
       "      <td>0.638922</td>\n",
       "      <td>0.000241</td>\n",
       "    </tr>\n",
       "    <tr>\n",
       "      <td>X</td>\n",
       "      <td>0.146840</td>\n",
       "      <td>0.017108</td>\n",
       "      <td>0.205132</td>\n",
       "      <td>0.056233</td>\n",
       "      <td>0.002851</td>\n",
       "      <td>0.025345</td>\n",
       "      <td>0.054332</td>\n",
       "      <td>0.075083</td>\n",
       "      <td>0.162205</td>\n",
       "      <td>0.010455</td>\n",
       "      <td>0.060827</td>\n",
       "      <td>0.183589</td>\n",
       "    </tr>\n",
       "    <tr>\n",
       "      <td>.</td>\n",
       "      <td>0.091431</td>\n",
       "      <td>0.043517</td>\n",
       "      <td>0.088111</td>\n",
       "      <td>0.066487</td>\n",
       "      <td>0.080574</td>\n",
       "      <td>0.053028</td>\n",
       "      <td>0.174338</td>\n",
       "      <td>0.027456</td>\n",
       "      <td>0.092149</td>\n",
       "      <td>0.058053</td>\n",
       "      <td>0.222521</td>\n",
       "      <td>0.002243</td>\n",
       "    </tr>\n",
       "    <tr>\n",
       "      <td>CONJ</td>\n",
       "      <td>0.050855</td>\n",
       "      <td>0.117892</td>\n",
       "      <td>0.155340</td>\n",
       "      <td>0.059177</td>\n",
       "      <td>0.042534</td>\n",
       "      <td>0.056403</td>\n",
       "      <td>0.120666</td>\n",
       "      <td>0.008322</td>\n",
       "      <td>0.034674</td>\n",
       "      <td>0.000462</td>\n",
       "      <td>0.348590</td>\n",
       "      <td>0.005086</td>\n",
       "    </tr>\n",
       "    <tr>\n",
       "      <td>NOUN</td>\n",
       "      <td>0.177429</td>\n",
       "      <td>0.012171</td>\n",
       "      <td>0.146709</td>\n",
       "      <td>0.004774</td>\n",
       "      <td>0.009110</td>\n",
       "      <td>0.016836</td>\n",
       "      <td>0.013119</td>\n",
       "      <td>0.029116</td>\n",
       "      <td>0.240726</td>\n",
       "      <td>0.042963</td>\n",
       "      <td>0.263538</td>\n",
       "      <td>0.043510</td>\n",
       "    </tr>\n",
       "    <tr>\n",
       "      <td>PRT</td>\n",
       "      <td>0.020669</td>\n",
       "      <td>0.085958</td>\n",
       "      <td>0.400262</td>\n",
       "      <td>0.017717</td>\n",
       "      <td>0.056759</td>\n",
       "      <td>0.009843</td>\n",
       "      <td>0.101050</td>\n",
       "      <td>0.013780</td>\n",
       "      <td>0.043307</td>\n",
       "      <td>0.002297</td>\n",
       "      <td>0.246391</td>\n",
       "      <td>0.001969</td>\n",
       "    </tr>\n",
       "  </tbody>\n",
       "</table>\n",
       "</div>"
      ],
      "text/plain": [
       "           ADP       ADJ      VERB      PRON       NUM       ADV       DET  \\\n",
       "ADP   0.016917  0.106820  0.008192  0.068412  0.063092  0.013831  0.324609   \n",
       "ADJ   0.076190  0.066338  0.012315  0.000657  0.020854  0.004433  0.004926   \n",
       "VERB  0.091360  0.065091  0.170787  0.034715  0.022627  0.081596  0.133824   \n",
       "PRON  0.022273  0.072581  0.488863  0.007680  0.006912  0.033794  0.009985   \n",
       "NUM   0.035088  0.031817  0.018139  0.001487  0.183467  0.002676  0.003568   \n",
       "ADV   0.117959  0.131213  0.342280  0.014911  0.032140  0.079854  0.068588   \n",
       "DET   0.009261  0.205196  0.038850  0.003608  0.022612  0.012629  0.005533   \n",
       "X     0.146840  0.017108  0.205132  0.056233  0.002851  0.025345  0.054332   \n",
       ".     0.091431  0.043517  0.088111  0.066487  0.080574  0.053028  0.174338   \n",
       "CONJ  0.050855  0.117892  0.155340  0.059177  0.042534  0.056403  0.120666   \n",
       "NOUN  0.177429  0.012171  0.146709  0.004774  0.009110  0.016836  0.013119   \n",
       "PRT   0.020669  0.085958  0.400262  0.017717  0.056759  0.009843  0.101050   \n",
       "\n",
       "             X         .      CONJ      NOUN       PRT  \n",
       "ADP   0.034791  0.039898  0.000745  0.321204  0.001490  \n",
       "ADJ   0.021182  0.064860  0.017077  0.700164  0.011002  \n",
       "VERB  0.218287  0.035103  0.005192  0.110035  0.031383  \n",
       "PRON  0.094470  0.040323  0.005376  0.206221  0.011521  \n",
       "NUM   0.211418  0.116860  0.013381  0.355040  0.027059  \n",
       "ADV   0.023857  0.136183  0.007290  0.031146  0.014579  \n",
       "DET   0.044744  0.017922  0.000481  0.638922  0.000241  \n",
       "X     0.075083  0.162205  0.010455  0.060827  0.183589  \n",
       ".     0.027456  0.092149  0.058053  0.222521  0.002243  \n",
       "CONJ  0.008322  0.034674  0.000462  0.348590  0.005086  \n",
       "NOUN  0.029116  0.240726  0.042963  0.263538  0.043510  \n",
       "PRT   0.013780  0.043307  0.002297  0.246391  0.001969  "
      ]
     },
     "execution_count": 43,
     "metadata": {},
     "output_type": "execute_result"
    }
   ],
   "source": [
    "# convert the matrix to a df for better readability\n",
    "tags_df = pd.DataFrame(tags_matrix, columns = list(tags), index=list(tags))\n",
    "tags_df"
   ]
  },
  {
   "cell_type": "code",
   "execution_count": 44,
   "metadata": {},
   "outputs": [
    {
     "data": {
      "text/plain": [
       "ADP     0.091431\n",
       "ADJ     0.043517\n",
       "VERB    0.088111\n",
       "PRON    0.066487\n",
       "NUM     0.080574\n",
       "ADV     0.053028\n",
       "DET     0.174338\n",
       "X       0.027456\n",
       ".       0.092149\n",
       "CONJ    0.058053\n",
       "NOUN    0.222521\n",
       "PRT     0.002243\n",
       "Name: ., dtype: float32"
      ]
     },
     "execution_count": 44,
     "metadata": {},
     "output_type": "execute_result"
    }
   ],
   "source": [
    "tags_df.loc['.', :]"
   ]
  },
  {
   "cell_type": "code",
   "execution_count": 45,
   "metadata": {},
   "outputs": [
    {
     "data": {
      "image/png": "[encoded data removed]",
      "text/plain": [
       "<Figure size 1296x864 with 2 Axes>"
      ]
     },
     "metadata": {
      "needs_background": "light"
     },
     "output_type": "display_data"
    }
   ],
   "source": [
    "# heatmap of tags matrix\n",
    "# T(i, j) means P(tag j given tag i)\n",
    "plt.figure(figsize=(18, 12))\n",
    "sns.heatmap(tags_df)\n",
    "plt.show()\n"
   ]
  },
  {
   "cell_type": "code",
   "execution_count": 46,
   "metadata": {},
   "outputs": [
    {
     "data": {
      "image/png": "[encoded data removed]",
      "text/plain": [
       "<Figure size 1296x864 with 2 Axes>"
      ]
     },
     "metadata": {
      "needs_background": "light"
     },
     "output_type": "display_data"
    }
   ],
   "source": [
    "# frequent tags\n",
    "# filter the df to get P(t2, t1) > 0.5\n",
    "tags_frequent = tags_df[tags_df>0.5]\n",
    "plt.figure(figsize=(18, 12))\n",
    "sns.heatmap(tags_frequent)\n",
    "plt.show()"
   ]
  },
  {
   "cell_type": "markdown",
   "metadata": {},
   "source": [
    "### Build the vanilla Viterbi based POS tagger"
   ]
  },
  {
   "cell_type": "code",
   "execution_count": 47,
   "metadata": {},
   "outputs": [
    {
     "data": {
      "text/plain": [
       "95804"
      ]
     },
     "execution_count": 47,
     "metadata": {},
     "output_type": "execute_result"
    }
   ],
   "source": [
    "len(train_tagged)"
   ]
  },
  {
   "cell_type": "code",
   "execution_count": 48,
   "metadata": {},
   "outputs": [],
   "source": [
    "# Viterbi Heuristic\n",
    "def Viterbi(words, train_bag = train_tagged):\n",
    "    state = []\n",
    "    T = list(set([pair[1] for pair in train_bag]))\n",
    "    \n",
    "    for key, word in enumerate(words):\n",
    "        #initialise list of probability column for a given observation\n",
    "        p = [] \n",
    "        for tag in T:\n",
    "            if key == 0:\n",
    "                transition_p = tags_df.loc['.', tag]\n",
    "            else:\n",
    "                transition_p = tags_df.loc[state[-1], tag]\n",
    "                \n",
    "            # compute emission and state probabilities\n",
    "            emission_p = word_given_tag(words[key], tag)[0]/word_given_tag(words[key], tag)[1]\n",
    "            state_probability = emission_p * transition_p    \n",
    "            p.append(state_probability)\n",
    "            \n",
    "        pmax = max(p)\n",
    "        # getting state for which probability is maximum\n",
    "        state_max = T[p.index(pmax)] \n",
    "        state.append(state_max)\n",
    "    return list(zip(words, state))\n",
    "\n"
   ]
  },
  {
   "cell_type": "markdown",
   "metadata": {},
   "source": [
    "#### Evaluating tagging accuracy"
   ]
  },
  {
   "cell_type": "code",
   "execution_count": 49,
   "metadata": {},
   "outputs": [
    {
     "data": {
      "text/plain": [
       "[[('Ten', 'NUM'),\n",
       "  ('shirt-sleeved', 'ADJ'),\n",
       "  ('ringers', 'NOUN'),\n",
       "  ('stand', 'VERB'),\n",
       "  ('in', 'ADP'),\n",
       "  ('a', 'DET'),\n",
       "  ('circle', 'NOUN'),\n",
       "  (',', '.'),\n",
       "  ('one', 'NUM'),\n",
       "  ('foot', 'NOUN'),\n",
       "  ('ahead', 'ADV'),\n",
       "  ('of', 'ADP'),\n",
       "  ('the', 'DET'),\n",
       "  ('other', 'ADJ'),\n",
       "  ('in', 'ADP'),\n",
       "  ('a', 'DET'),\n",
       "  ('prize-fighter', 'NOUN'),\n",
       "  (\"'s\", 'PRT'),\n",
       "  ('stance', 'NOUN'),\n",
       "  (',', '.'),\n",
       "  ('each', 'DET'),\n",
       "  ('pulling', 'VERB'),\n",
       "  ('a', 'DET'),\n",
       "  ('rope', 'NOUN'),\n",
       "  ('that', 'DET'),\n",
       "  ('*T*-225', 'X'),\n",
       "  ('disappears', 'VERB'),\n",
       "  ('through', 'ADP'),\n",
       "  ('a', 'DET'),\n",
       "  ('small', 'ADJ'),\n",
       "  ('hole', 'NOUN'),\n",
       "  ('in', 'ADP'),\n",
       "  ('the', 'DET'),\n",
       "  ('high', 'ADJ'),\n",
       "  ('ceiling', 'NOUN'),\n",
       "  ('of', 'ADP'),\n",
       "  ('the', 'DET'),\n",
       "  ('ringing', 'NOUN'),\n",
       "  ('chamber', 'NOUN'),\n",
       "  ('.', '.')],\n",
       " [('``', '.'),\n",
       "  ('So', 'ADP'),\n",
       "  ('the', 'DET'),\n",
       "  ('focus', 'NOUN'),\n",
       "  ('turned', 'VERB'),\n",
       "  ('to', 'PRT'),\n",
       "  ('other', 'ADJ'),\n",
       "  ('fixed-income', 'ADJ'),\n",
       "  ('markets', 'NOUN'),\n",
       "  (',', '.'),\n",
       "  ('corporate', 'ADJ'),\n",
       "  ('and', 'CONJ'),\n",
       "  ('mortgages', 'NOUN'),\n",
       "  ('in', 'ADP'),\n",
       "  ('particular', 'ADJ'),\n",
       "  (',', '.'),\n",
       "  (\"''\", '.'),\n",
       "  ('she', 'PRON'),\n",
       "  ('said', 'VERB'),\n",
       "  ('*T*-1', 'X'),\n",
       "  ('.', '.')],\n",
       " [('The', 'DET'),\n",
       "  ('new', 'ADJ'),\n",
       "  ('company', 'NOUN'),\n",
       "  ('said', 'VERB'),\n",
       "  ('0', 'X'),\n",
       "  ('it', 'PRON'),\n",
       "  ('believes', 'VERB'),\n",
       "  ('0', 'X'),\n",
       "  ('there', 'DET'),\n",
       "  ('are', 'VERB'),\n",
       "  ('fewer', 'ADJ'),\n",
       "  ('than', 'ADP'),\n",
       "  ('100', 'NUM'),\n",
       "  ('potential', 'ADJ'),\n",
       "  ('customers', 'NOUN'),\n",
       "  ('for', 'ADP'),\n",
       "  ('supercomputers', 'NOUN'),\n",
       "  ('priced', 'VERB'),\n",
       "  ('*', 'X'),\n",
       "  ('between', 'ADP'),\n",
       "  ('$', '.'),\n",
       "  ('15', 'NUM'),\n",
       "  ('million', 'NUM'),\n",
       "  ('and', 'CONJ'),\n",
       "  ('$', '.'),\n",
       "  ('30', 'NUM'),\n",
       "  ('million', 'NUM'),\n",
       "  ('*U*', 'X'),\n",
       "  ('--', '.'),\n",
       "  ('presumably', 'ADV'),\n",
       "  ('the', 'DET'),\n",
       "  ('Cray-3', 'NOUN'),\n",
       "  ('price', 'NOUN'),\n",
       "  ('range', 'NOUN'),\n",
       "  ('.', '.')],\n",
       " [('A', 'DET'),\n",
       "  ('steady', 'ADJ'),\n",
       "  ('deposit', 'NOUN'),\n",
       "  ('base', 'NOUN'),\n",
       "  ('.', '.')],\n",
       " [('But', 'CONJ'),\n",
       "  ('for', 'ADP'),\n",
       "  ('now', 'ADV'),\n",
       "  (',', '.'),\n",
       "  ('they', 'PRON'),\n",
       "  (\"'re\", 'VERB'),\n",
       "  ('looking', 'VERB'),\n",
       "  ('forward', 'ADV'),\n",
       "  ('to', 'PRT'),\n",
       "  ('their', 'PRON'),\n",
       "  ('winter', 'NOUN'),\n",
       "  ('meeting', 'NOUN'),\n",
       "  ('--', '.'),\n",
       "  ('Boca', 'NOUN'),\n",
       "  ('in', 'ADP'),\n",
       "  ('February', 'NOUN'),\n",
       "  ('.', '.')]]"
      ]
     },
     "execution_count": 49,
     "metadata": {},
     "output_type": "execute_result"
    }
   ],
   "source": [
    "# Running on entire validation dataset \n",
    "\n",
    "random.seed(1234)\n",
    "\n",
    "# choose random 5 sents\n",
    "rndom = [random.randint(1,len(validation_set)) for x in range(5)]\n",
    "\n",
    "# list of sents\n",
    "validation_run = [validation_set[i] for i in rndom]\n",
    "\n",
    "# list of tagged words\n",
    "validation_run_base = [tup for sent in validation_run for tup in sent]\n",
    "\n",
    "# list of untagged words\n",
    "validation_tagged_words = [tup[0] for sent in validation_run for tup in sent]\n",
    "validation_run"
   ]
  },
  {
   "cell_type": "code",
   "execution_count": 50,
   "metadata": {},
   "outputs": [],
   "source": [
    "# tagging the test sentences\n",
    "start = time.time()\n",
    "tagged_seq = Viterbi(validation_tagged_words)\n",
    "end = time.time()\n",
    "difference = end-start"
   ]
  },
  {
   "cell_type": "code",
   "execution_count": 51,
   "metadata": {},
   "outputs": [
    {
     "name": "stdout",
     "output_type": "stream",
     "text": [
      "Time taken in seconds:  50.285765171051025\n",
      "[('Ten', 'ADP'), ('shirt-sleeved', 'ADP'), ('ringers', 'NOUN'), ('stand', 'VERB'), ('in', 'ADP'), ('a', 'DET'), ('circle', 'ADP'), (',', '.'), ('one', 'NUM'), ('foot', 'ADP'), ('ahead', 'ADV'), ('of', 'ADP'), ('the', 'DET'), ('other', 'ADJ'), ('in', 'ADP'), ('a', 'DET'), ('prize-fighter', 'ADP'), (\"'s\", 'PRT'), ('stance', 'NOUN'), (',', '.'), ('each', 'DET'), ('pulling', 'ADP'), ('a', 'DET'), ('rope', 'ADP'), ('that', 'DET'), ('*T*-225', 'ADP'), ('disappears', 'ADP'), ('through', 'ADP'), ('a', 'DET'), ('small', 'ADJ'), ('hole', 'ADP'), ('in', 'ADP'), ('the', 'DET'), ('high', 'ADJ'), ('ceiling', 'NOUN'), ('of', 'ADP'), ('the', 'DET'), ('ringing', 'NOUN'), ('chamber', 'ADP'), ('.', '.'), ('``', '.'), ('So', 'ADV'), ('the', 'DET'), ('focus', 'NOUN'), ('turned', 'VERB'), ('to', 'PRT'), ('other', 'ADJ'), ('fixed-income', 'ADP'), ('markets', 'NOUN'), (',', '.'), ('corporate', 'ADJ'), ('and', 'CONJ'), ('mortgages', 'NOUN'), ('in', 'ADP'), ('particular', 'ADJ'), (',', '.'), (\"''\", '.'), ('she', 'PRON'), ('said', 'VERB'), ('*T*-1', 'X'), ('.', '.'), ('The', 'DET'), ('new', 'ADJ'), ('company', 'NOUN'), ('said', 'VERB'), ('0', 'X'), ('it', 'PRON'), ('believes', 'VERB'), ('0', 'X'), ('there', 'DET'), ('are', 'VERB'), ('fewer', 'ADJ'), ('than', 'ADP'), ('100', 'NUM'), ('potential', 'ADJ'), ('customers', 'NOUN'), ('for', 'ADP'), ('supercomputers', 'NOUN'), ('priced', 'VERB'), ('*', 'X'), ('between', 'ADP'), ('$', '.'), ('15', 'NUM'), ('million', 'NUM'), ('and', 'CONJ'), ('$', '.'), ('30', 'NUM'), ('million', 'NUM'), ('*U*', 'X'), ('--', '.'), ('presumably', 'ADV'), ('the', 'DET'), ('Cray-3', 'NOUN'), ('price', 'NOUN'), ('range', 'NOUN'), ('.', '.'), ('A', 'DET'), ('steady', 'ADJ'), ('deposit', 'NOUN'), ('base', 'NOUN'), ('.', '.'), ('But', 'CONJ'), ('for', 'ADP'), ('now', 'ADV'), (',', '.'), ('they', 'PRON'), (\"'re\", 'VERB'), ('looking', 'VERB'), ('forward', 'ADV'), ('to', 'PRT'), ('their', 'PRON'), ('winter', 'ADP'), ('meeting', 'NOUN'), ('--', '.'), ('Boca', 'NOUN'), ('in', 'ADP'), ('February', 'NOUN'), ('.', '.')]\n"
     ]
    }
   ],
   "source": [
    "print(\"Time taken in seconds: \", difference)\n",
    "print(tagged_seq)"
   ]
  },
  {
   "cell_type": "code",
   "execution_count": 53,
   "metadata": {},
   "outputs": [],
   "source": [
    "# accuracy\n",
    "check = [i for i, j in zip(tagged_seq, validation_run_base) if i == j] "
   ]
  },
  {
   "cell_type": "code",
   "execution_count": 55,
   "metadata": {},
   "outputs": [
    {
     "data": {
      "text/plain": [
       "0.8813559322033898"
      ]
     },
     "execution_count": 55,
     "metadata": {},
     "output_type": "execute_result"
    }
   ],
   "source": [
    "accuracy = len(check)/len(tagged_seq)\n",
    "accuracy"
   ]
  },
  {
   "cell_type": "markdown",
   "metadata": {},
   "source": [
    "### Compare the tagging accuracies of the modifications with the vanilla Viterbi algorithm"
   ]
  },
  {
   "cell_type": "code",
   "execution_count": 57,
   "metadata": {},
   "outputs": [],
   "source": [
    "## Modification -1: all unknown words are replaced by Noun (Noun being the most common tag)\n",
    "\n",
    "def Viterbi_mod1(test_words, train_bag = train_tagged):\n",
    "    tagged_seq = Viterbi(test_words)\n",
    "    V = list(set([pair[0] for pair in train_bag]))\n",
    "    \n",
    "    words = [pair[0] for pair in tagged_seq]\n",
    "    Viterbi_tags = [pair[1] for pair in tagged_seq]\n",
    "    \n",
    "    for key, word in enumerate(words):\n",
    "        if word not in V:\n",
    "            Viterbi_tags[key] = 'NOUN'\n",
    "            \n",
    "    \n",
    "    return list(zip(words, Viterbi_tags))"
   ]
  },
  {
   "cell_type": "code",
   "execution_count": 58,
   "metadata": {},
   "outputs": [],
   "source": [
    "validation_Viterbimod1 = Viterbi_mod1(validation_tagged_words)"
   ]
  },
  {
   "cell_type": "code",
   "execution_count": 59,
   "metadata": {},
   "outputs": [
    {
     "data": {
      "text/plain": [
       "0.940677966101695"
      ]
     },
     "execution_count": 59,
     "metadata": {},
     "output_type": "execute_result"
    }
   ],
   "source": [
    "# modification 1 accuracy\n",
    "\n",
    "check_mod1 = [i for i, j in zip(validation_Viterbimod1, validation_run_base) if i == j] \n",
    "accuracy1 = len(check_mod1)/len(validation_Viterbimod1)\n",
    "\n",
    "accuracy1\n"
   ]
  },
  {
   "cell_type": "code",
   "execution_count": 64,
   "metadata": {},
   "outputs": [],
   "source": [
    "## Viterbi Modification -2: \n",
    "## 1. all unknown words with first letter capital/ all letters capitals are tagged as Noun, numbers are tagged as NUM, words ending with '-ous' as ADJ, and rest as Noun\n",
    "\n",
    "def Viterbi_mod2(test_words, train_bag = train_tagged):\n",
    "    tagged_seq = Viterbi(test_words)\n",
    "    V = list(set([pair[0] for pair in train_bag]))\n",
    "    \n",
    "    words = [pair[0] for pair in tagged_seq]\n",
    "    Viterbi_tags = [pair[1] for pair in tagged_seq]\n",
    "    \n",
    "    for key, word in enumerate(words):\n",
    "        if word not in V:\n",
    "            ## word ending with '-ous'\n",
    "            if word[-3:] == 'ous':\n",
    "                Viterbi_tags[key] = 'ADJ'\n",
    "            \n",
    "            ## if word is number\n",
    "            elif (word.isdigit() == True or word[:-2].isdigit() == True):\n",
    "                Viterbi_tags[key] = 'NUM'\n",
    "                \n",
    "            ## all letters capitalised\n",
    "            elif word.upper() == word:\n",
    "                Viterbi_tags[key] = 'NOUN'\n",
    "                \n",
    "            ## first letter is capitalised:\n",
    "            elif word[0].upper() == word[0]:\n",
    "                Viterbi_tags[key] = 'NOUN' \n",
    "                \n",
    "            else: \n",
    "                Viterbi_tags[key] = 'NOUN'\n",
    "    \n",
    "    return list(zip(words, Viterbi_tags))"
   ]
  },
  {
   "cell_type": "code",
   "execution_count": 65,
   "metadata": {},
   "outputs": [],
   "source": [
    "validation_Viterbimod2 = Viterbi_mod2(validation_tagged_words)"
   ]
  },
  {
   "cell_type": "code",
   "execution_count": 66,
   "metadata": {},
   "outputs": [
    {
     "data": {
      "text/plain": [
       "0.940677966101695"
      ]
     },
     "execution_count": 66,
     "metadata": {},
     "output_type": "execute_result"
    }
   ],
   "source": [
    "# modification 2 accuracy\n",
    "\n",
    "check_mod2 = [i for i, j in zip(validation_Viterbimod2, validation_run_base) if i == j] \n",
    "accuracy2 = len(check_mod2)/len(validation_Viterbimod2)\n",
    "\n",
    "accuracy1"
   ]
  },
  {
   "cell_type": "markdown",
   "metadata": {},
   "source": [
    "### List down cases which were incorrectly tagged by original POS tagger and got corrected by your modifications"
   ]
  },
  {
   "cell_type": "code",
   "execution_count": 68,
   "metadata": {},
   "outputs": [
    {
     "name": "stderr",
     "output_type": "stream",
     "text": [
      "[nltk_data] Downloading package punkt to\n",
      "[nltk_data]     C:\\Users\\AJAY\\AppData\\Roaming\\nltk_data...\n",
      "[nltk_data]   Unzipping tokenizers\\punkt.zip.\n"
     ]
    },
    {
     "data": {
      "text/plain": [
       "True"
      ]
     },
     "execution_count": 68,
     "metadata": {},
     "output_type": "execute_result"
    }
   ],
   "source": [
    "nltk.download('punkt')"
   ]
  },
  {
   "cell_type": "code",
   "execution_count": 69,
   "metadata": {},
   "outputs": [],
   "source": [
    "## Testing\n",
    "test_cases_shared = 'Android is a mobile operating system developed by Google. Android has been the best-selling OS worldwide on smartphones since 2011 and on tablets since 2013. Google and Twitter made a deal in 2015 that gave Google access to Twitter\\'s firehose. Twitter is an online news and social networking service on which users post and interact with messages known as tweets. Before entering politics, Donald Trump was a domineering businessman and a television personality. The 2018 FIFA World Cup is the 21st FIFA World Cup, an international football tournament contested once every four years. This is the first World Cup to be held in Eastern Europe and the 11th time that it has been held in Europe. Show me the cheapest round trips from Dallas to Atlanta. I would like to see flights from Denver to Philadelphia. Show me the price of the flights leaving Atlanta at about 3 in the afternoon and arriving in San Francisco. NASA invited social media users to experience the launch of ICESAT-2 Satellite.'\n",
    "test_words = word_tokenize(test_cases_shared)"
   ]
  },
  {
   "cell_type": "code",
   "execution_count": 70,
   "metadata": {},
   "outputs": [
    {
     "data": {
      "text/plain": [
       "[('Android', 'NOUN'),\n",
       " ('is', 'VERB'),\n",
       " ('a', 'DET'),\n",
       " ('mobile', 'ADJ'),\n",
       " ('operating', 'NOUN'),\n",
       " ('system', 'NOUN'),\n",
       " ('developed', 'VERB'),\n",
       " ('by', 'ADP'),\n",
       " ('Google', 'NOUN'),\n",
       " ('.', '.'),\n",
       " ('Android', 'NOUN'),\n",
       " ('has', 'VERB'),\n",
       " ('been', 'VERB'),\n",
       " ('the', 'DET'),\n",
       " ('best-selling', 'ADJ'),\n",
       " ('OS', 'NOUN'),\n",
       " ('worldwide', 'NOUN'),\n",
       " ('on', 'ADP'),\n",
       " ('smartphones', 'NOUN'),\n",
       " ('since', 'ADP'),\n",
       " ('2011', 'NOUN'),\n",
       " ('and', 'CONJ'),\n",
       " ('on', 'ADP'),\n",
       " ('tablets', 'NOUN'),\n",
       " ('since', 'ADP'),\n",
       " ('2013', 'NOUN'),\n",
       " ('.', '.'),\n",
       " ('Google', 'NOUN'),\n",
       " ('and', 'CONJ'),\n",
       " ('Twitter', 'NOUN'),\n",
       " ('made', 'VERB'),\n",
       " ('a', 'DET'),\n",
       " ('deal', 'NOUN'),\n",
       " ('in', 'ADP'),\n",
       " ('2015', 'NOUN'),\n",
       " ('that', 'DET'),\n",
       " ('gave', 'VERB'),\n",
       " ('Google', 'NOUN'),\n",
       " ('access', 'NOUN'),\n",
       " ('to', 'PRT'),\n",
       " ('Twitter', 'NOUN'),\n",
       " (\"'s\", 'PRT'),\n",
       " ('firehose', 'NOUN'),\n",
       " ('.', '.'),\n",
       " ('Twitter', 'NOUN'),\n",
       " ('is', 'VERB'),\n",
       " ('an', 'DET'),\n",
       " ('online', 'NOUN'),\n",
       " ('news', 'NOUN'),\n",
       " ('and', 'CONJ'),\n",
       " ('social', 'ADJ'),\n",
       " ('networking', 'NOUN'),\n",
       " ('service', 'NOUN'),\n",
       " ('on', 'ADP'),\n",
       " ('which', 'DET'),\n",
       " ('users', 'NOUN'),\n",
       " ('post', 'NOUN'),\n",
       " ('and', 'CONJ'),\n",
       " ('interact', 'NOUN'),\n",
       " ('with', 'ADP'),\n",
       " ('messages', 'NOUN'),\n",
       " ('known', 'ADJ'),\n",
       " ('as', 'ADP'),\n",
       " ('tweets', 'NOUN'),\n",
       " ('.', '.'),\n",
       " ('Before', 'ADP'),\n",
       " ('entering', 'VERB'),\n",
       " ('politics', 'NOUN'),\n",
       " (',', '.'),\n",
       " ('Donald', 'NOUN'),\n",
       " ('Trump', 'NOUN'),\n",
       " ('was', 'VERB'),\n",
       " ('a', 'DET'),\n",
       " ('domineering', 'NOUN'),\n",
       " ('businessman', 'NOUN'),\n",
       " ('and', 'CONJ'),\n",
       " ('a', 'DET'),\n",
       " ('television', 'NOUN'),\n",
       " ('personality', 'NOUN'),\n",
       " ('.', '.'),\n",
       " ('The', 'DET'),\n",
       " ('2018', 'NOUN'),\n",
       " ('FIFA', 'NOUN'),\n",
       " ('World', 'NOUN'),\n",
       " ('Cup', 'NOUN'),\n",
       " ('is', 'VERB'),\n",
       " ('the', 'DET'),\n",
       " ('21st', 'NOUN'),\n",
       " ('FIFA', 'NOUN'),\n",
       " ('World', 'NOUN'),\n",
       " ('Cup', 'NOUN'),\n",
       " (',', '.'),\n",
       " ('an', 'DET'),\n",
       " ('international', 'ADJ'),\n",
       " ('football', 'NOUN'),\n",
       " ('tournament', 'NOUN'),\n",
       " ('contested', 'NOUN'),\n",
       " ('once', 'ADV'),\n",
       " ('every', 'DET'),\n",
       " ('four', 'NUM'),\n",
       " ('years', 'NOUN'),\n",
       " ('.', '.'),\n",
       " ('This', 'DET'),\n",
       " ('is', 'VERB'),\n",
       " ('the', 'DET'),\n",
       " ('first', 'ADJ'),\n",
       " ('World', 'NOUN'),\n",
       " ('Cup', 'NOUN'),\n",
       " ('to', 'PRT'),\n",
       " ('be', 'VERB'),\n",
       " ('held', 'VERB'),\n",
       " ('in', 'ADP'),\n",
       " ('Eastern', 'NOUN'),\n",
       " ('Europe', 'NOUN'),\n",
       " ('and', 'CONJ'),\n",
       " ('the', 'DET'),\n",
       " ('11th', 'ADJ'),\n",
       " ('time', 'NOUN'),\n",
       " ('that', 'ADP'),\n",
       " ('it', 'PRON'),\n",
       " ('has', 'VERB'),\n",
       " ('been', 'VERB'),\n",
       " ('held', 'VERB'),\n",
       " ('in', 'ADP'),\n",
       " ('Europe', 'NOUN'),\n",
       " ('.', '.'),\n",
       " ('Show', 'NOUN'),\n",
       " ('me', 'PRON'),\n",
       " ('the', 'DET'),\n",
       " ('cheapest', 'ADJ'),\n",
       " ('round', 'NOUN'),\n",
       " ('trips', 'NOUN'),\n",
       " ('from', 'ADP'),\n",
       " ('Dallas', 'NOUN'),\n",
       " ('to', 'PRT'),\n",
       " ('Atlanta', 'NOUN'),\n",
       " ('.', '.'),\n",
       " ('I', 'PRON'),\n",
       " ('would', 'VERB'),\n",
       " ('like', 'ADP'),\n",
       " ('to', 'PRT'),\n",
       " ('see', 'VERB'),\n",
       " ('flights', 'NOUN'),\n",
       " ('from', 'ADP'),\n",
       " ('Denver', 'NOUN'),\n",
       " ('to', 'PRT'),\n",
       " ('Philadelphia', 'NOUN'),\n",
       " ('.', '.'),\n",
       " ('Show', 'NOUN'),\n",
       " ('me', 'PRON'),\n",
       " ('the', 'DET'),\n",
       " ('price', 'NOUN'),\n",
       " ('of', 'ADP'),\n",
       " ('the', 'DET'),\n",
       " ('flights', 'NOUN'),\n",
       " ('leaving', 'VERB'),\n",
       " ('Atlanta', 'NOUN'),\n",
       " ('at', 'ADP'),\n",
       " ('about', 'ADP'),\n",
       " ('3', 'NUM'),\n",
       " ('in', 'ADP'),\n",
       " ('the', 'DET'),\n",
       " ('afternoon', 'NOUN'),\n",
       " ('and', 'CONJ'),\n",
       " ('arriving', 'NOUN'),\n",
       " ('in', 'ADP'),\n",
       " ('San', 'NOUN'),\n",
       " ('Francisco', 'NOUN'),\n",
       " ('.', '.'),\n",
       " ('NASA', 'NOUN'),\n",
       " ('invited', 'NOUN'),\n",
       " ('social', 'ADJ'),\n",
       " ('media', 'NOUN'),\n",
       " ('users', 'NOUN'),\n",
       " ('to', 'PRT'),\n",
       " ('experience', 'NOUN'),\n",
       " ('the', 'DET'),\n",
       " ('launch', 'NOUN'),\n",
       " ('of', 'ADP'),\n",
       " ('ICESAT-2', 'NOUN'),\n",
       " ('Satellite', 'NOUN'),\n",
       " ('.', '.')]"
      ]
     },
     "execution_count": 70,
     "metadata": {},
     "output_type": "execute_result"
    }
   ],
   "source": [
    "# After modification -1 \n",
    "start = time.time()\n",
    "tagged_seq1_test = Viterbi_mod1(test_words)\n",
    "end = time.time()\n",
    "difference = end-start\n",
    "tagged_seq1_test"
   ]
  },
  {
   "cell_type": "code",
   "execution_count": 71,
   "metadata": {},
   "outputs": [
    {
     "data": {
      "text/plain": [
       "[('Android', 'NOUN'),\n",
       " ('is', 'VERB'),\n",
       " ('a', 'DET'),\n",
       " ('mobile', 'ADJ'),\n",
       " ('operating', 'NOUN'),\n",
       " ('system', 'NOUN'),\n",
       " ('developed', 'VERB'),\n",
       " ('by', 'ADP'),\n",
       " ('Google', 'NOUN'),\n",
       " ('.', '.'),\n",
       " ('Android', 'NOUN'),\n",
       " ('has', 'VERB'),\n",
       " ('been', 'VERB'),\n",
       " ('the', 'DET'),\n",
       " ('best-selling', 'ADJ'),\n",
       " ('OS', 'NOUN'),\n",
       " ('worldwide', 'NOUN'),\n",
       " ('on', 'ADP'),\n",
       " ('smartphones', 'NOUN'),\n",
       " ('since', 'ADP'),\n",
       " ('2011', 'NOUN'),\n",
       " ('and', 'CONJ'),\n",
       " ('on', 'ADP'),\n",
       " ('tablets', 'NOUN'),\n",
       " ('since', 'ADP'),\n",
       " ('2013', 'NOUN'),\n",
       " ('.', '.'),\n",
       " ('Google', 'NOUN'),\n",
       " ('and', 'CONJ'),\n",
       " ('Twitter', 'NOUN'),\n",
       " ('made', 'VERB'),\n",
       " ('a', 'DET'),\n",
       " ('deal', 'NOUN'),\n",
       " ('in', 'ADP'),\n",
       " ('2015', 'NOUN'),\n",
       " ('that', 'DET'),\n",
       " ('gave', 'VERB'),\n",
       " ('Google', 'NOUN'),\n",
       " ('access', 'NOUN'),\n",
       " ('to', 'PRT'),\n",
       " ('Twitter', 'NOUN'),\n",
       " (\"'s\", 'PRT'),\n",
       " ('firehose', 'NOUN'),\n",
       " ('.', '.'),\n",
       " ('Twitter', 'NOUN'),\n",
       " ('is', 'VERB'),\n",
       " ('an', 'DET'),\n",
       " ('online', 'NOUN'),\n",
       " ('news', 'NOUN'),\n",
       " ('and', 'CONJ'),\n",
       " ('social', 'ADJ'),\n",
       " ('networking', 'NOUN'),\n",
       " ('service', 'NOUN'),\n",
       " ('on', 'ADP'),\n",
       " ('which', 'DET'),\n",
       " ('users', 'NOUN'),\n",
       " ('post', 'NOUN'),\n",
       " ('and', 'CONJ'),\n",
       " ('interact', 'NOUN'),\n",
       " ('with', 'ADP'),\n",
       " ('messages', 'NOUN'),\n",
       " ('known', 'ADJ'),\n",
       " ('as', 'ADP'),\n",
       " ('tweets', 'NOUN'),\n",
       " ('.', '.'),\n",
       " ('Before', 'ADP'),\n",
       " ('entering', 'VERB'),\n",
       " ('politics', 'NOUN'),\n",
       " (',', '.'),\n",
       " ('Donald', 'NOUN'),\n",
       " ('Trump', 'NOUN'),\n",
       " ('was', 'VERB'),\n",
       " ('a', 'DET'),\n",
       " ('domineering', 'NOUN'),\n",
       " ('businessman', 'NOUN'),\n",
       " ('and', 'CONJ'),\n",
       " ('a', 'DET'),\n",
       " ('television', 'NOUN'),\n",
       " ('personality', 'NOUN'),\n",
       " ('.', '.'),\n",
       " ('The', 'DET'),\n",
       " ('2018', 'NOUN'),\n",
       " ('FIFA', 'NOUN'),\n",
       " ('World', 'NOUN'),\n",
       " ('Cup', 'NOUN'),\n",
       " ('is', 'VERB'),\n",
       " ('the', 'DET'),\n",
       " ('21st', 'NOUN'),\n",
       " ('FIFA', 'NOUN'),\n",
       " ('World', 'NOUN'),\n",
       " ('Cup', 'NOUN'),\n",
       " (',', '.'),\n",
       " ('an', 'DET'),\n",
       " ('international', 'ADJ'),\n",
       " ('football', 'NOUN'),\n",
       " ('tournament', 'NOUN'),\n",
       " ('contested', 'NOUN'),\n",
       " ('once', 'ADV'),\n",
       " ('every', 'DET'),\n",
       " ('four', 'NUM'),\n",
       " ('years', 'NOUN'),\n",
       " ('.', '.'),\n",
       " ('This', 'DET'),\n",
       " ('is', 'VERB'),\n",
       " ('the', 'DET'),\n",
       " ('first', 'ADJ'),\n",
       " ('World', 'NOUN'),\n",
       " ('Cup', 'NOUN'),\n",
       " ('to', 'PRT'),\n",
       " ('be', 'VERB'),\n",
       " ('held', 'VERB'),\n",
       " ('in', 'ADP'),\n",
       " ('Eastern', 'NOUN'),\n",
       " ('Europe', 'NOUN'),\n",
       " ('and', 'CONJ'),\n",
       " ('the', 'DET'),\n",
       " ('11th', 'ADJ'),\n",
       " ('time', 'NOUN'),\n",
       " ('that', 'ADP'),\n",
       " ('it', 'PRON'),\n",
       " ('has', 'VERB'),\n",
       " ('been', 'VERB'),\n",
       " ('held', 'VERB'),\n",
       " ('in', 'ADP'),\n",
       " ('Europe', 'NOUN'),\n",
       " ('.', '.'),\n",
       " ('Show', 'NOUN'),\n",
       " ('me', 'PRON'),\n",
       " ('the', 'DET'),\n",
       " ('cheapest', 'ADJ'),\n",
       " ('round', 'NOUN'),\n",
       " ('trips', 'NOUN'),\n",
       " ('from', 'ADP'),\n",
       " ('Dallas', 'NOUN'),\n",
       " ('to', 'PRT'),\n",
       " ('Atlanta', 'NOUN'),\n",
       " ('.', '.'),\n",
       " ('I', 'PRON'),\n",
       " ('would', 'VERB'),\n",
       " ('like', 'ADP'),\n",
       " ('to', 'PRT'),\n",
       " ('see', 'VERB'),\n",
       " ('flights', 'NOUN'),\n",
       " ('from', 'ADP'),\n",
       " ('Denver', 'NOUN'),\n",
       " ('to', 'PRT'),\n",
       " ('Philadelphia', 'NOUN'),\n",
       " ('.', '.'),\n",
       " ('Show', 'NOUN'),\n",
       " ('me', 'PRON'),\n",
       " ('the', 'DET'),\n",
       " ('price', 'NOUN'),\n",
       " ('of', 'ADP'),\n",
       " ('the', 'DET'),\n",
       " ('flights', 'NOUN'),\n",
       " ('leaving', 'VERB'),\n",
       " ('Atlanta', 'NOUN'),\n",
       " ('at', 'ADP'),\n",
       " ('about', 'ADP'),\n",
       " ('3', 'NUM'),\n",
       " ('in', 'ADP'),\n",
       " ('the', 'DET'),\n",
       " ('afternoon', 'NOUN'),\n",
       " ('and', 'CONJ'),\n",
       " ('arriving', 'NOUN'),\n",
       " ('in', 'ADP'),\n",
       " ('San', 'NOUN'),\n",
       " ('Francisco', 'NOUN'),\n",
       " ('.', '.'),\n",
       " ('NASA', 'NOUN'),\n",
       " ('invited', 'NOUN'),\n",
       " ('social', 'ADJ'),\n",
       " ('media', 'NOUN'),\n",
       " ('users', 'NOUN'),\n",
       " ('to', 'PRT'),\n",
       " ('experience', 'NOUN'),\n",
       " ('the', 'DET'),\n",
       " ('launch', 'NOUN'),\n",
       " ('of', 'ADP'),\n",
       " ('ICESAT-2', 'NOUN'),\n",
       " ('Satellite', 'NOUN'),\n",
       " ('.', '.')]"
      ]
     },
     "execution_count": 71,
     "metadata": {},
     "output_type": "execute_result"
    }
   ],
   "source": [
    "# After modification 2 \n",
    "start = time.time()\n",
    "tagged_seq2_test = Viterbi_mod1(test_words)\n",
    "end = time.time()\n",
    "difference = end-start\n",
    "tagged_seq2_test"
   ]
  },
  {
   "cell_type": "code",
   "execution_count": null,
   "metadata": {},
   "outputs": [],
   "source": []
  }
 ],
 "metadata": {
  "kernelspec": {
   "display_name": "Python 3",
   "language": "python",
   "name": "python3"
  },
  "language_info": {
   "codemirror_mode": {
    "name": "ipython",
    "version": 3
   },
   "file_extension": ".py",
   "mimetype": "text/x-python",
   "name": "python",
   "nbconvert_exporter": "python",
   "pygments_lexer": "ipython3",
   "version": "3.7.4"
  }
 },
 "nbformat": 4,
 "nbformat_minor": 2
}
